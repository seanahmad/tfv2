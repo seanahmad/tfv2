{
 "cells": [
  {
   "cell_type": "markdown",
   "metadata": {
    "collapsed": true
   },
   "source": [
    "# Task: To predict patient glucose levels using a Keras-based neural network.\n",
    "\n",
    "### Original data: https://data.world/uci/pima-indians-diabetes"
   ]
  },
  {
   "cell_type": "markdown",
   "metadata": {},
   "source": [
    "## Load TensorFlow, Keras and Corrplot libraries"
   ]
  },
  {
   "cell_type": "code",
   "execution_count": null,
   "metadata": {},
   "outputs": [],
   "source": [
    "library(tensorflow)\n",
    "library(keras)\n",
    "library(corrplot)"
   ]
  },
  {
   "cell_type": "markdown",
   "metadata": {},
   "source": [
    "## Load dataset"
   ]
  },
  {
   "cell_type": "code",
   "execution_count": null,
   "metadata": {},
   "outputs": [],
   "source": [
    "diabetes1<-read.csv(\"pima-indians-diabetes1.csv\")\n",
    "attach(diabetes1)"
   ]
  },
  {
   "cell_type": "code",
   "execution_count": null,
   "metadata": {},
   "outputs": [],
   "source": [
    "diabetes1"
   ]
  },
  {
   "cell_type": "markdown",
   "metadata": {},
   "source": [
    "# Feature Selection\n",
    "\n",
    "### As we have already seen, the purpose of feature selection is to identify the features that have the most impact on the dependent variable and remove redundant features.\n",
    "\n",
    "### The following link also contains further information on feature selection techniques for this dataset. (https://machinelearningmastery.com/feature-selection-with-the-caret-r-package/).\n",
    "\n",
    "### This example is slightly different because feature selection is being conducted for a regression - rather than a classification problem."
   ]
  },
  {
   "cell_type": "markdown",
   "metadata": {},
   "source": [
    "## Correlation Plot\n",
    "\n",
    "### Features that are overly correlated with each other are assumed redundant and should be removed from the model."
   ]
  },
  {
   "cell_type": "code",
   "execution_count": null,
   "metadata": {},
   "outputs": [],
   "source": [
    "M <- cor(diabetes1)\n",
    "corrplot(M, method = \"circle\")"
   ]
  },
  {
   "cell_type": "markdown",
   "metadata": {},
   "source": [
    "## Display correlation coefficients"
   ]
  },
  {
   "cell_type": "code",
   "execution_count": null,
   "metadata": {},
   "outputs": [],
   "source": [
    "corrplot(M, method = \"number\")"
   ]
  },
  {
   "cell_type": "markdown",
   "metadata": {},
   "source": [
    "## Multiple Linear Regression\n",
    "\n",
    "### Linear regression is used to quantify the impact of features (or independent variables) on the dependent variable.\n",
    "\n",
    "### In this case, features with a significance level of lower than 5% are kept in the model."
   ]
  },
  {
   "cell_type": "code",
   "execution_count": null,
   "metadata": {},
   "outputs": [],
   "source": [
    "fit <- lm(Glucose ~ Pregnancies + Outcome + Age + DiabetesPedigreeFunction + BMI + Insulin + SkinThickness + BloodPressure, data=diabetes1)\n",
    "summary(fit) # show results"
   ]
  },
  {
   "cell_type": "code",
   "execution_count": null,
   "metadata": {},
   "outputs": [],
   "source": [
    "df<-data.frame(Outcome, Age, Insulin, SkinThickness, Glucose)\n",
    "attach(df)"
   ]
  },
  {
   "cell_type": "markdown",
   "metadata": {},
   "source": [
    "## Max-Min Normalization"
   ]
  },
  {
   "cell_type": "code",
   "execution_count": null,
   "metadata": {},
   "outputs": [],
   "source": [
    "normalize <- function(x) {\n",
    "  return ((x - min(x)) / (max(x) - min(x)))\n",
    "}\n",
    "\n",
    "maxmindf <- as.data.frame(lapply(df, normalize))\n",
    "attach(maxmindf)\n",
    "maxmindf<-as.matrix(maxmindf)"
   ]
  },
  {
   "cell_type": "markdown",
   "metadata": {},
   "source": [
    "## Train-validation split"
   ]
  },
  {
   "cell_type": "code",
   "execution_count": null,
   "metadata": {},
   "outputs": [],
   "source": [
    "ind <- sample(2, nrow(maxmindf), replace=TRUE, prob = c(0.7,0.3))"
   ]
  },
  {
   "cell_type": "markdown",
   "metadata": {},
   "source": [
    "## Build X_train, y_train, X_val, y_val"
   ]
  },
  {
   "cell_type": "code",
   "execution_count": null,
   "metadata": {},
   "outputs": [],
   "source": [
    "X_train <- maxmindf[ind==1, 1:4]\n",
    "X_val <- maxmindf[ind==2, 1:4]\n",
    "y_train <- maxmindf[ind==1, 5]\n",
    "y_val <- maxmindf[ind==2, 5]"
   ]
  },
  {
   "cell_type": "markdown",
   "metadata": {},
   "source": [
    "# Neural Network"
   ]
  },
  {
   "cell_type": "markdown",
   "metadata": {},
   "source": [
    "## Sequential model"
   ]
  },
  {
   "cell_type": "code",
   "execution_count": null,
   "metadata": {},
   "outputs": [],
   "source": [
    "model <- keras_model_sequential() \n",
    "model %>% \n",
    "  layer_dense(units = 12, activation = 'relu', kernel_initializer='RandomNormal', input_shape = c(4)) %>% \n",
    "  layer_dense(units = 8, activation = 'relu') %>%\n",
    "  layer_dense(units = 1, activation = 'linear')\n",
    "\n",
    "summary(model)"
   ]
  },
  {
   "cell_type": "markdown",
   "metadata": {},
   "source": [
    "## Model compilation with mean squared error used as loss function\n",
    "\n",
    "### Model trained over 150 epochs"
   ]
  },
  {
   "cell_type": "code",
   "execution_count": null,
   "metadata": {},
   "outputs": [],
   "source": [
    "model %>% compile(\n",
    "  loss = 'mean_squared_error',\n",
    "  optimizer = 'adam',\n",
    "  metrics = c('mae')\n",
    ")\n",
    "\n",
    "history <- model %>% fit(\n",
    "  X_train, y_train, \n",
    "  epochs = 150, batch_size = 50, \n",
    "  validation_split = 0.2\n",
    ")"
   ]
  },
  {
   "cell_type": "markdown",
   "metadata": {},
   "source": [
    "### Model evaluation"
   ]
  },
  {
   "cell_type": "code",
   "execution_count": null,
   "metadata": {},
   "outputs": [],
   "source": [
    "model %>% evaluate(X_val, y_val)\n",
    "model\n",
    "pred <- data.frame(y = predict(model, as.matrix(X_val)))\n",
    "predicted=pred$y * abs(diff(range(df$Glucose))) + min(df$Glucose)\n",
    "actual=y_val * abs(diff(range(df$Glucose))) + min(df$Glucose)\n",
    "df<-data.frame(predicted,actual)\n",
    "attach(df)"
   ]
  },
  {
   "cell_type": "markdown",
   "metadata": {},
   "source": [
    "## Glucose level predictions"
   ]
  },
  {
   "cell_type": "code",
   "execution_count": null,
   "metadata": {},
   "outputs": [],
   "source": [
    "predicted=as.matrix(predicted)\n",
    "predicted"
   ]
  },
  {
   "cell_type": "code",
   "execution_count": null,
   "metadata": {},
   "outputs": [],
   "source": [
    "actual"
   ]
  },
  {
   "cell_type": "markdown",
   "metadata": {},
   "source": [
    "## Mean percentage error\n",
    "\n",
    "### Percentage difference between predicted and actual values"
   ]
  },
  {
   "cell_type": "code",
   "execution_count": null,
   "metadata": {},
   "outputs": [],
   "source": [
    "mpe=((predicted-actual)/actual)\n",
    "mean(mpe)*100"
   ]
  },
  {
   "cell_type": "markdown",
   "metadata": {
    "collapsed": true
   },
   "source": [
    "## EXERCISE\n",
    "\n",
    "### pima-indians-diabetes2.csv contains the predictor variables for the test set.\n",
    "\n",
    "### pima-indians-diabetes3.csv contains the dependent variables (or glucose readings) for the test set.\n",
    "\n",
    "### Your task is to use the existing model to generate new predictions for this test set and calculate the mean percentage error on these new predictions."
   ]
  },
  {
   "cell_type": "code",
   "execution_count": null,
   "metadata": {},
   "outputs": [],
   "source": [
    "diabetes2<-read.csv(\"pima-indians-diabetes2.csv\")\n",
    "attach(diabetes2)"
   ]
  },
  {
   "cell_type": "code",
   "execution_count": null,
   "metadata": {},
   "outputs": [],
   "source": [
    "diabetes2"
   ]
  },
  {
   "cell_type": "code",
   "execution_count": null,
   "metadata": {},
   "outputs": [],
   "source": [
    "df2<-data.frame(Outcome, Age, Insulin, SkinThickness)\n",
    "attach(df2)"
   ]
  },
  {
   "cell_type": "code",
   "execution_count": null,
   "metadata": {},
   "outputs": [],
   "source": [
    "df2"
   ]
  },
  {
   "cell_type": "markdown",
   "metadata": {},
   "source": [
    "## Max-Min Normalization"
   ]
  },
  {
   "cell_type": "code",
   "execution_count": null,
   "metadata": {},
   "outputs": [],
   "source": [
    "normalize <- function(x) {\n",
    "  return ((x - min(x)) / (max(x) - min(x)))\n",
    "}\n",
    "\n",
    "maxmindf2 <- as.data.frame(lapply(df2, normalize))\n",
    "attach(maxmindf2)"
   ]
  },
  {
   "cell_type": "markdown",
   "metadata": {},
   "source": [
    "## Using the predict function in R, generate predictions (pred_test) for the Glucose variable using maxmindf2."
   ]
  },
  {
   "cell_type": "code",
   "execution_count": null,
   "metadata": {},
   "outputs": [],
   "source": [
    "pred_test <- # Complete this line...\n",
    "predicted_test = pred_test$y * abs(diff(range(diabetes1$Glucose))) + min(diabetes1$Glucose)\n",
    "predicted_test"
   ]
  },
  {
   "cell_type": "markdown",
   "metadata": {},
   "source": [
    "## Loading test set - or unseen data for this purpose."
   ]
  },
  {
   "cell_type": "code",
   "execution_count": null,
   "metadata": {},
   "outputs": [],
   "source": [
    "diabetes3<-read.csv(\"pima-indians-diabetes3.csv\")\n",
    "diabetes3"
   ]
  },
  {
   "cell_type": "markdown",
   "metadata": {},
   "source": [
    "## Compare predicted values with actual values."
   ]
  },
  {
   "cell_type": "code",
   "execution_count": null,
   "metadata": {},
   "outputs": [],
   "source": [
    "actual_test = diabetes3$Glucose\n",
    "df2<-data.frame(predicted_test,actual_test)\n",
    "attach(df2)\n",
    "df2"
   ]
  },
  {
   "cell_type": "markdown",
   "metadata": {},
   "source": [
    "## Mean percentage error calculation"
   ]
  },
  {
   "cell_type": "code",
   "execution_count": null,
   "metadata": {},
   "outputs": [],
   "source": [
    "mpe2= # Insert the formula for calculating the mean percentage error here...\n",
    "mean(mpe2)*100"
   ]
  },
  {
   "cell_type": "code",
   "execution_count": null,
   "metadata": {},
   "outputs": [],
   "source": []
  }
 ],
 "metadata": {
  "kernelspec": {
   "display_name": "R",
   "language": "R",
   "name": "ir"
  },
  "language_info": {
   "codemirror_mode": "r",
   "file_extension": ".r",
   "mimetype": "text/x-r-source",
   "name": "R",
   "pygments_lexer": "r",
   "version": "3.6.1"
  }
 },
 "nbformat": 4,
 "nbformat_minor": 2
}
