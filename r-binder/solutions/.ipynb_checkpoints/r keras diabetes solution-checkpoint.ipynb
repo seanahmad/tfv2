{
 "cells": [
  {
   "cell_type": "code",
   "execution_count": null,
   "metadata": {},
   "outputs": [],
   "source": [
    "devtools::install_github(\"rstudio/tensorflow\")"
   ]
  },
  {
   "cell_type": "code",
   "execution_count": null,
   "metadata": {},
   "outputs": [],
   "source": [
    "library(tensorflow)\n",
    "install_tensorflow()"
   ]
  },
  {
   "cell_type": "code",
   "execution_count": null,
   "metadata": {},
   "outputs": [],
   "source": [
    "library(keras)\n",
    "diabetes1<-read.csv(\"pima-indians-diabetes1.csv\")\n",
    "\n",
    "#Max-Min Normalization\n",
    "normalize <- function(x) {\n",
    "  return ((x - min(x)) / (max(x) - min(x)))\n",
    "}\n",
    "\n",
    "maxmindf <- as.data.frame(lapply(diabetes1, normalize))\n",
    "attach(maxmindf)\n",
    "maxmindf<-as.matrix(maxmindf)"
   ]
  },
  {
   "cell_type": "code",
   "execution_count": null,
   "metadata": {},
   "outputs": [],
   "source": [
    "ind <- sample(2, nrow(maxmindf), replace=TRUE, prob = c(0.7,0.3))\n",
    "\n",
    "# Build X_train, y_train, X_val, y_val\n",
    "X_train <- maxmindf[ind==1, 1:8]\n",
    "X_val <- maxmindf[ind==2, 1:8]\n",
    "y_train <- maxmindf[ind==1, 9]\n",
    "y_val <- maxmindf[ind==2, 9]"
   ]
  },
  {
   "cell_type": "code",
   "execution_count": null,
   "metadata": {},
   "outputs": [],
   "source": [
    "model <- keras_model_sequential() \n",
    "model %>% \n",
    "  layer_dense(units = 12, activation = 'relu', kernel_initializer='RandomNormal', input_shape = c(8)) %>% \n",
    "  layer_dense(units = 8, activation = 'relu') %>%\n",
    "  layer_dense(units = 1, activation = 'linear')\n",
    "\n",
    "summary(model)"
   ]
  },
  {
   "cell_type": "code",
   "execution_count": null,
   "metadata": {},
   "outputs": [],
   "source": [
    "model %>% compile(\n",
    "  loss = 'mean_squared_error',\n",
    "  optimizer = 'adam',\n",
    "  metrics = c('mae')\n",
    ")\n",
    "\n",
    "history <- model %>% fit(\n",
    "  X_train, y_train, \n",
    "  epochs = 150, batch_size = 50, \n",
    "  validation_split = 0.2\n",
    ")"
   ]
  },
  {
   "cell_type": "code",
   "execution_count": null,
   "metadata": {},
   "outputs": [],
   "source": [
    "model %>% evaluate(X_val, y_val)\n",
    "model\n",
    "pred <- data.frame(y = predict(model, as.matrix(X_val)))\n",
    "predicted=pred$y * abs(diff(range(diabetes1$Glucose))) + min(diabetes1$Glucose)\n",
    "actual=y_val * abs(diff(range(diabetes1$Glucose))) + min(diabetes1$Glucose)\n",
    "df<-data.frame(predicted,actual)\n",
    "attach(df)"
   ]
  },
  {
   "cell_type": "code",
   "execution_count": null,
   "metadata": {},
   "outputs": [],
   "source": [
    "predicted=as.matrix(predicted)\n",
    "predicted"
   ]
  },
  {
   "cell_type": "code",
   "execution_count": null,
   "metadata": {},
   "outputs": [],
   "source": [
    "actual"
   ]
  },
  {
   "cell_type": "code",
   "execution_count": null,
   "metadata": {},
   "outputs": [],
   "source": [
    "mpe=((predicted-actual)/actual)\n",
    "mean(mpe)*100"
   ]
  },
  {
   "cell_type": "code",
   "execution_count": null,
   "metadata": {},
   "outputs": [],
   "source": [
    "# Exercise\n",
    "\n",
    "# pima-indians-diabetes2.csv contains the predictor variables for the test set.\n",
    "# pima-indians-diabetes3.csv contains the dependent variables (or glucose readings) for the test set.\n",
    "\n",
    "# Your task is to use the existing model to generate new predictions for this test set and calculate the mean percentage\n",
    "# error on these new predictions.\n",
    "\n",
    "# Run below for solution."
   ]
  },
  {
   "cell_type": "code",
   "execution_count": null,
   "metadata": {},
   "outputs": [],
   "source": [
    "diabetes2<-read.csv(\"pima-indians-diabetes2.csv\")\n",
    "\n",
    "#Max-Min Normalization\n",
    "normalize <- function(x) {\n",
    "  return ((x - min(x)) / (max(x) - min(x)))\n",
    "}\n",
    "\n",
    "maxmindf2 <- as.data.frame(lapply(diabetes2, normalize))\n",
    "attach(maxmindf2)"
   ]
  },
  {
   "cell_type": "code",
   "execution_count": null,
   "metadata": {},
   "outputs": [],
   "source": [
    "pred_test <- data.frame(y = predict(model, as.matrix(maxmindf2)))\n",
    "predicted_test = pred_test$y * abs(diff(range(diabetes1$Glucose))) + min(diabetes1$Glucose)\n",
    "predicted_test"
   ]
  },
  {
   "cell_type": "code",
   "execution_count": null,
   "metadata": {},
   "outputs": [],
   "source": [
    "diabetes3<-read.csv(\"pima-indians-diabetes3.csv\")\n",
    "diabetes3"
   ]
  },
  {
   "cell_type": "code",
   "execution_count": null,
   "metadata": {},
   "outputs": [],
   "source": [
    "actual_test = diabetes3$Glucose\n",
    "df2<-data.frame(predicted_test,actual_test)\n",
    "attach(df2)\n",
    "df2"
   ]
  },
  {
   "cell_type": "code",
   "execution_count": null,
   "metadata": {},
   "outputs": [],
   "source": [
    "mpe2=((predicted_test-actual_test)/actual_test)\n",
    "mean(mpe2)*100"
   ]
  }
 ],
 "metadata": {
  "kernelspec": {
   "display_name": "R",
   "language": "R",
   "name": "ir"
  },
  "language_info": {
   "codemirror_mode": "r",
   "file_extension": ".r",
   "mimetype": "text/x-r-source",
   "name": "R",
   "pygments_lexer": "r",
   "version": "3.6.1"
  }
 },
 "nbformat": 4,
 "nbformat_minor": 2
}
