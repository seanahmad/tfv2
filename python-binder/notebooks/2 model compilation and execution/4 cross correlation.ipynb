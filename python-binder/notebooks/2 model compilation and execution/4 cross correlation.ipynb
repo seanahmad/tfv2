{
 "cells": [
  {
   "cell_type": "code",
   "execution_count": null,
   "metadata": {
    "collapsed": true
   },
   "outputs": [],
   "source": [
    "import numpy as np\n",
    "import tensorflow as tf"
   ]
  },
  {
   "cell_type": "code",
   "execution_count": null,
   "metadata": {
    "collapsed": true
   },
   "outputs": [],
   "source": [
    "@tf.function\n",
    "def correlationfunc(x,y):\n",
    "    cc1 = np.correlate(x - x.mean(), y - y.mean())[0] # Remove means\n",
    "    cc1 /= (len(x) * x.std() * y.std()) #Normalise by number of points and product of standard deviations\n",
    "    cc2 = np.corrcoef(x, y)[0, 1]\n",
    "    return(cc1, cc2)"
   ]
  },
  {
   "cell_type": "code",
   "execution_count": null,
   "metadata": {
    "collapsed": true
   },
   "outputs": [],
   "source": [
    "print(tf.autograph.to_code(correlationfunc.python_function))"
   ]
  },
  {
   "cell_type": "code",
   "execution_count": null,
   "metadata": {
    "collapsed": true
   },
   "outputs": [],
   "source": [
    "a=np.array([16,30,18,26,40,97,26,38,96,81])\n",
    "b=np.array([94,2,50,4,71,21,20,82,84,10])\n",
    "print(correlationfunc(a,b))"
   ]
  },
  {
   "cell_type": "code",
   "execution_count": null,
   "metadata": {
    "collapsed": true
   },
   "outputs": [],
   "source": [
    "x=np.array([16,32,14,28,40,97,26,38,96,81])\n",
    "y=np.array([96,93,5,47,71,21,20,82,84,10])\n",
    "print(correlationfunc(x,y))"
   ]
  },
  {
   "cell_type": "code",
   "execution_count": null,
   "metadata": {
    "collapsed": true
   },
   "outputs": [],
   "source": [
    "%time"
   ]
  }
 ],
 "metadata": {
  "kernelspec": {
   "display_name": "Python 3",
   "language": "python",
   "name": "python3"
  },
  "language_info": {
   "codemirror_mode": {
    "name": "ipython",
    "version": 3
   },
   "file_extension": ".py",
   "mimetype": "text/x-python",
   "name": "python",
   "nbconvert_exporter": "python",
   "pygments_lexer": "ipython3",
   "version": "3.6.0"
  }
 },
 "nbformat": 4,
 "nbformat_minor": 2
}
